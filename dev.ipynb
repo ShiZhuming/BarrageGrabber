{
 "nbformat": 4,
 "nbformat_minor": 2,
 "metadata": {
  "language_info": {
   "name": "python",
   "codemirror_mode": {
    "name": "ipython",
    "version": 3
   },
   "version": "3.7.4-final"
  },
  "orig_nbformat": 2,
  "file_extension": ".py",
  "mimetype": "text/x-python",
  "name": "python",
  "npconvert_exporter": "python",
  "pygments_lexer": "ipython3",
  "version": 3,
  "kernelspec": {
   "name": "python37464bitbaseconda7f80a5070ff849e6b3b4d42407427cf9",
   "display_name": "Python 3.7.4 64-bit ('base': conda)"
  }
 },
 "cells": [
  {
   "cell_type": "code",
   "execution_count": 138,
   "metadata": {},
   "outputs": [],
   "source": [
    "import requests\n",
    "import json"
   ]
  },
  {
   "cell_type": "code",
   "execution_count": 139,
   "metadata": {},
   "outputs": [],
   "source": [
    "output = open('data.txt','w')\n",
    "# output.write(\"hello\")\n"
   ]
  },
  {
   "cell_type": "code",
   "execution_count": 140,
   "metadata": {},
   "outputs": [],
   "source": [
    "i = 0\n",
    "flag = 0\n",
    "while True:\n",
    "    payload = {'scid': 'SAGOVuM3TBO2pbwL', 'ts': str(i) + '000'}\n",
    "    r = requests.get(\"https://www.yizhibo.com/live/h5api/get_playback_event\", params=payload)\n",
    "    obj = json.loads(r.text)\n",
    "    if obj['data']['count']:\n",
    "        flag = 0\n",
    "        for item in obj['data']['list']:\n",
    "            # print(str(item['ts']) + ' ' + item['nickname'] + ':' + item['content'])\n",
    "            output.write(str(item['ts']) + '\\t' + item['nickname'] + ':\\t' + item['content'] + '\\n')\n",
    "    else:\n",
    "        flag += 1\n",
    "    i += 5\n",
    "    if i > 20000 or flag > 65:\n",
    "        break\n",
    "    \n",
    "        "
   ]
  },
  {
   "cell_type": "code",
   "execution_count": 141,
   "metadata": {},
   "outputs": [],
   "source": [
    "output.close()"
   ]
  },
  {
   "cell_type": "code",
   "execution_count": null,
   "metadata": {},
   "outputs": [],
   "source": []
  }
 ]
}